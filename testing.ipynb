{
 "cells": [
  {
   "cell_type": "markdown",
   "id": "31b7310b",
   "metadata": {},
   "source": [
    "# Calibration"
   ]
  },
  {
   "cell_type": "code",
   "execution_count": null,
   "id": "61b76d8e",
   "metadata": {},
   "outputs": [],
   "source": [
    "import glob\n",
    "import cv2\n",
    "import numpy as np\n",
    "\n",
    "# --- 3.1 Specify checkerboard parameters ---\n",
    "CHECKERBOARD = (9, 6)        # inner corners per row, per column\n",
    "SQUARE_SIZE  = 0.025         # square size in meters (e.g. 25 mm → 0.025 m)\n",
    "\n",
    "# prepare object points: (0,0,0), (s,0,0), (2s,0,0), …, ( (m-1)s, (n-1)s, 0 )\n",
    "objp = np.zeros((CHECKERBOARD[1]*CHECKERBOARD[0], 3), np.float32)\n",
    "objp[:, :2] = np.mgrid[0:CHECKERBOARD[0], 0:CHECKERBOARD[1]].T.reshape(-1, 2)\n",
    "objp *= SQUARE_SIZE\n",
    "\n",
    "# storage for 3D points (world) and 2D points (image)\n",
    "objpoints = []  # 3D points in world\n",
    "imgpoints = []  # 2D points in image\n",
    "\n",
    "# --- 3.2 Detect corners in all images ---\n",
    "images = glob.glob('calib_*.jpg')\n",
    "for fname in images:\n",
    "    img = cv2.imread(fname)\n",
    "    gray = cv2.cvtColor(img, cv2.COLOR_BGR2GRAY)\n",
    "    # find chessboard corners\n",
    "    ret, corners = cv2.findChessboardCorners(gray, CHECKERBOARD,\n",
    "                                             cv2.CALIB_CB_ADAPTIVE_THRESH\n",
    "                                           | cv2.CALIB_CB_NORMALIZE_IMAGE)\n",
    "    if ret:\n",
    "        # refine corner locations\n",
    "        corners2 = cv2.cornerSubPix(gray, corners, (11,11), (-1,-1),\n",
    "                                    criteria=(cv2.TERM_CRITERIA_EPS \n",
    "                                              | cv2.TERM_CRITERIA_MAX_ITER,\n",
    "                                              30, 0.001))\n",
    "        objpoints.append(objp)\n",
    "        imgpoints.append(corners2)\n",
    "        # (optional) draw and display:\n",
    "        cv2.drawChessboardCorners(img, CHECKERBOARD, corners2, ret)\n",
    "        cv2.imshow('Corners', img); cv2.waitKey(100)\n",
    "cv2.destroyAllWindows()\n",
    "\n",
    "# --- 3.3 Calibrate camera ---\n",
    "ret, K, dist, rvecs, tvecs = cv2.calibrateCamera(\n",
    "    objpoints, imgpoints, gray.shape[::-1], None, None)\n",
    "\n",
    "print(\"Re-projection error:\", ret)\n",
    "print(\"Camera matrix K:\\n\", K)\n",
    "print(\"Distortion coeffs:\\n\", dist.ravel())\n",
    "\n",
    "# --- 3.4 Example: compute extrinsics for image #0 ---\n",
    "# rotation vector → rotation matrix\n",
    "R0, _ = cv2.Rodrigues(rvecs[0])\n",
    "t0 = tvecs[0]   # shape (3,1)\n",
    "print(\"R0:\\n\", R0)\n",
    "print(\"t0:\\n\", t0)\n"
   ]
  },
  {
   "cell_type": "markdown",
   "id": "785abc0b",
   "metadata": {},
   "source": [
    "# Pose Estimation"
   ]
  },
  {
   "cell_type": "code",
   "execution_count": null,
   "id": "ab4b4fce",
   "metadata": {},
   "outputs": [
    {
     "name": "stdout",
     "output_type": "stream",
     "text": [
      "Hello, World!\n"
     ]
    }
   ],
   "source": [
    "import numpy as np\n",
    "import matplotlib.pyplot as plt\n",
    "\n",
    "# 1) Define a small 3D grid\n",
    "Nx, Ny, Nz = 20, 20, 20\n",
    "x = np.linspace(-1, 1, Nx)\n",
    "y = np.linspace(-1, 1, Ny)\n",
    "z = np.linspace(0, 1, Nz)\n",
    "\n",
    "# 2) Create two synthetic \"silhouettes\" (masks) for each camera:\n",
    "#    - left camera sees projection along X → silhouette in Y-Z plane\n",
    "#    - right camera sees projection along Y → silhouette in X-Z plane\n",
    "radius = 0.5\n",
    "left_silhouette  = np.abs(y)[:, None] <= radius    # shape (Ny,1)\n",
    "right_silhouette = np.abs(x)[None, :] <= radius    # shape (1,Nx)\n",
    "\n",
    "# 3) Voxel carving: keep (x,y,z) if both silhouettes agree\n",
    "points = []\n",
    "for i, xi in enumerate(x):\n",
    "    for j, yj in enumerate(y):\n",
    "        if right_silhouette[0, i] and left_silhouette[j, 0]:\n",
    "            for zk in z:\n",
    "                points.append([xi, yj, zk])\n",
    "points = np.array(points)\n",
    "\n",
    "# 4) Compute a simple centerline: for each z-slice, average x & y\n",
    "centerline = []\n",
    "for zk in z:\n",
    "    slice_pts = points[np.isclose(points[:, 2], zk)]\n",
    "    if len(slice_pts) > 0:\n",
    "        cx, cy = slice_pts[:,0].mean(), slice_pts[:,1].mean()\n",
    "        centerline.append([cx, cy, zk])\n",
    "centerline = np.array(centerline)\n",
    "\n",
    "# 5) Estimate tangent at the tip (last two points)\n",
    "v = centerline[-1] - centerline[-2]\n",
    "theta = np.arccos(v[2] / np.linalg.norm(v))  # bending magnitude\n",
    "phi   = np.arctan2(v[1], v[0])              # bending plane\n",
    "\n",
    "print(\"Estimated bending angle θ (rad):\", theta)\n",
    "print(\"Estimated bending plane φ (rad):\", phi)\n",
    "\n",
    "# 6) Plot a 2D x–z view of the carved voxels and the centerline\n",
    "fig, ax = plt.subplots()\n",
    "ax.scatter(points[:,0], points[:,2], marker='.', label='voxels')\n",
    "ax.plot(centerline[:,0], centerline[:,2], label='centerline')\n",
    "ax.set_xlabel('x')\n",
    "ax.set_ylabel('z')\n",
    "ax.legend()\n",
    "plt.show()\n"
   ]
  },
  {
   "cell_type": "code",
   "execution_count": null,
   "id": "28669331",
   "metadata": {},
   "outputs": [],
   "source": []
  }
 ],
 "metadata": {
  "kernelspec": {
   "display_name": "base",
   "language": "python",
   "name": "python3"
  },
  "language_info": {
   "codemirror_mode": {
    "name": "ipython",
    "version": 3
   },
   "file_extension": ".py",
   "mimetype": "text/x-python",
   "name": "python",
   "nbconvert_exporter": "python",
   "pygments_lexer": "ipython3",
   "version": "3.12.7"
  }
 },
 "nbformat": 4,
 "nbformat_minor": 5
}
